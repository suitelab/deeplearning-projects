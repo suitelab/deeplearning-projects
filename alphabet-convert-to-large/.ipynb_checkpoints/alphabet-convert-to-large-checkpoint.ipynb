{
 "cells": [
  {
   "cell_type": "code",
   "execution_count": 14,
   "metadata": {},
   "outputs": [],
   "source": [
    "dict = {\n",
    "    'A': 'ᴀ', 'B': 'ʙ', 'C': 'ᴄ', 'D': 'ᴅ', 'E': 'ᴇ',\n",
    "    'F': 'ғ', 'G': 'ɢ', 'H': 'ʜ', 'I': 'ɪ', 'J': 'ᴊ',\n",
    "    'K': 'ᴋ', 'L': 'ʟ', 'M': 'ᴍ', 'n': 'ɴ', 'o': 'ᴏ',\n",
    "    'p': 'ᴘ', 'q': 'ǫ', 'r': 'ʀ', 's': 's', 't': 'ᴛ',\n",
    "    'u': 'ᴜ', 'v': 'ᴠ', 'w': 'ᴡ', 'x': 'x', 'y': 'ʏ',\n",
    "    'z': 'ᴢ'\n",
    "}"
   ]
  },
  {
   "cell_type": "code",
   "execution_count": 15,
   "metadata": {},
   "outputs": [],
   "source": [
    "def str_to_arr(text):\n",
    "    text = text.upper()\n",
    "    returnValue = ''\n",
    "    for a in text:\n",
    "        if a not in dict:\n",
    "            returnValue += a\n",
    "        else:\n",
    "            returnValue += dict[a]\n",
    "    return returnValue"
   ]
  },
  {
   "cell_type": "code",
   "execution_count": 16,
   "metadata": {},
   "outputs": [
    {
     "name": "stdout",
     "output_type": "stream",
     "text": [
      "PRᴇTᴇNSᴇ\n"
     ]
    }
   ],
   "source": [
    "print(str_to_arr('pretense'))"
   ]
  },
  {
   "cell_type": "code",
   "execution_count": null,
   "metadata": {},
   "outputs": [],
   "source": []
  }
 ],
 "metadata": {
  "kernelspec": {
   "display_name": "Python 3",
   "language": "python",
   "name": "python3"
  },
  "language_info": {
   "codemirror_mode": {
    "name": "ipython",
    "version": 3
   },
   "file_extension": ".py",
   "mimetype": "text/x-python",
   "name": "python",
   "nbconvert_exporter": "python",
   "pygments_lexer": "ipython3",
   "version": "3.5.2"
  }
 },
 "nbformat": 4,
 "nbformat_minor": 2
}
